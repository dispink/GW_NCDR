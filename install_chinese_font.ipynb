{
 "cells": [
  {
   "cell_type": "markdown",
   "source": [
    "It's adopted from https://pyecontech.com/2020/03/27/python_matplotlib_chinese/ to install Traditional-Chinese font into matplotlib libary."
   ],
   "metadata": {}
  },
  {
   "cell_type": "markdown",
   "source": [
    "# First step: \r\n",
    "Download the font from https://sites.google.com/view/jtfoundry/zh-tw/downloads."
   ],
   "metadata": {}
  },
  {
   "cell_type": "markdown",
   "source": [
    "# Secend step:\r\n",
    "Copy the downloaded font to the matplotlib library (current enviroment)."
   ],
   "metadata": {}
  },
  {
   "cell_type": "code",
   "execution_count": 29,
   "source": [
    "import matplotlib\r\n",
    "import shutil\r\n",
    "import os\r\n",
    "\r\n",
    "# modify if needed\r\n",
    "ttf_file = 'F:\\\\Downloads\\\\TaipeiSansTCBeta-Regular.ttf'\r\n",
    "destination = os.path.join(matplotlib.__file__[:-11], 'mpl-data\\\\fonts\\\\ttf', ttf_file.split('\\\\')[-1])\r\n",
    "shutil.copyfile(ttf_file, destination)"
   ],
   "outputs": [
    {
     "output_type": "execute_result",
     "data": {
      "text/plain": [
       "'C:\\\\Users\\\\An-Sheng\\\\Miniconda3\\\\envs\\\\ncdr\\\\lib\\\\site-packages\\\\matplotlib\\\\mpl-data\\\\fonts\\\\ttf\\\\TaipeiSansTCBeta-Regular.ttf'"
      ]
     },
     "metadata": {},
     "execution_count": 29
    }
   ],
   "metadata": {}
  },
  {
   "cell_type": "markdown",
   "source": [
    "# Third step:\r\n",
    "Delete the cache files of matplotlib."
   ],
   "metadata": {}
  },
  {
   "cell_type": "code",
   "execution_count": 30,
   "source": [
    "shutil.rmtree(os.path.join(os.path.expanduser('~'), '.matplotlib'))"
   ],
   "outputs": [],
   "metadata": {}
  },
  {
   "cell_type": "markdown",
   "source": [
    "# Fourth step:\r\n",
    "Restart thsi notebook's kernal and check if the font is installed properly."
   ],
   "metadata": {}
  },
  {
   "cell_type": "code",
   "execution_count": 13,
   "source": [
    "import matplotlib.font_manager\r\n",
    "\r\n",
    "if 'Taipei Sans TC Beta' in [f.name for f in matplotlib.font_manager.fontManager.ttflist]:\r\n",
    "    print('Successfully installed')"
   ],
   "outputs": [
    {
     "output_type": "stream",
     "name": "stdout",
     "text": [
      "Successfully installed\n"
     ]
    }
   ],
   "metadata": {}
  }
 ],
 "metadata": {
  "orig_nbformat": 4,
  "language_info": {
   "name": "python",
   "version": "3.9.7",
   "mimetype": "text/x-python",
   "codemirror_mode": {
    "name": "ipython",
    "version": 3
   },
   "pygments_lexer": "ipython3",
   "nbconvert_exporter": "python",
   "file_extension": ".py"
  },
  "kernelspec": {
   "name": "python3",
   "display_name": "Python 3.9.7 64-bit ('ncdr': conda)"
  },
  "interpreter": {
   "hash": "354178e733bfa671b06b67ba2704b581a445ec1de5c3d34073639f20ee70bfdb"
  }
 },
 "nbformat": 4,
 "nbformat_minor": 2
}