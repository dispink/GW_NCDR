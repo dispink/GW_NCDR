{
 "cells": [
  {
   "cell_type": "markdown",
   "metadata": {},
   "source": [
    "This is to demonstrate how to use my script. It's recommended to go through `install_chinese_font.ipynb` first to make sure the Traditional Chinese words display properly."
   ]
  },
  {
   "cell_type": "code",
   "execution_count": 1,
   "metadata": {},
   "outputs": [],
   "source": [
    "import pandas as pd\n",
    "import matplotlib.pyplot as plt\n",
    "import visualization\n",
    "\n",
    "plt.style.use(['seaborn-colorblind', 'seaborn-talk'])\n",
    "plt.rcParams['figure.dpi'] = 200\n",
    "plt.rcParams['savefig.dpi'] = 200\n",
    "plt.rcParams['savefig.bbox'] = 'tight'\n",
    "plt.rcParams['font.sans-serif'] = ['Taipei Sans TC Beta'] # to plot Chinese words properly\n",
    "\n",
    "import datetime\n",
    "date = datetime.datetime.now().strftime('%Y%m%d')\n",
    "%matplotlib inline"
   ]
  },
  {
   "cell_type": "markdown",
   "metadata": {},
   "source": [
    "# Read data\n",
    "I use the 2021-05-01 to 2021-05-15 water level data as the toy data."
   ]
  },
  {
   "cell_type": "code",
   "execution_count": 2,
   "metadata": {},
   "outputs": [
    {
     "data": {
      "text/html": [
       "<div>\n",
       "<style scoped>\n",
       "    .dataframe tbody tr th:only-of-type {\n",
       "        vertical-align: middle;\n",
       "    }\n",
       "\n",
       "    .dataframe tbody tr th {\n",
       "        vertical-align: top;\n",
       "    }\n",
       "\n",
       "    .dataframe thead th {\n",
       "        text-align: right;\n",
       "    }\n",
       "</style>\n",
       "<table border=\"1\" class=\"dataframe\">\n",
       "  <thead>\n",
       "    <tr style=\"text-align: right;\">\n",
       "      <th></th>\n",
       "      <th>井名</th>\n",
       "      <th>日期時間</th>\n",
       "      <th>井號</th>\n",
       "      <th>水面至井口深度</th>\n",
       "      <th>Lon</th>\n",
       "      <th>Lat</th>\n",
       "      <th>月</th>\n",
       "    </tr>\n",
       "  </thead>\n",
       "  <tbody>\n",
       "    <tr>\n",
       "      <th>0</th>\n",
       "      <td>國聖(1)</td>\n",
       "      <td>2021-05-01 00:00:00</td>\n",
       "      <td>7010111</td>\n",
       "      <td>3.933</td>\n",
       "      <td>120.569126</td>\n",
       "      <td>24.092658</td>\n",
       "      <td>5</td>\n",
       "    </tr>\n",
       "    <tr>\n",
       "      <th>1</th>\n",
       "      <td>國聖(1)</td>\n",
       "      <td>2021-05-01 00:10:00</td>\n",
       "      <td>7010111</td>\n",
       "      <td>3.931</td>\n",
       "      <td>120.569126</td>\n",
       "      <td>24.092658</td>\n",
       "      <td>5</td>\n",
       "    </tr>\n",
       "    <tr>\n",
       "      <th>2</th>\n",
       "      <td>國聖(1)</td>\n",
       "      <td>2021-05-01 00:20:00</td>\n",
       "      <td>7010111</td>\n",
       "      <td>3.932</td>\n",
       "      <td>120.569126</td>\n",
       "      <td>24.092658</td>\n",
       "      <td>5</td>\n",
       "    </tr>\n",
       "    <tr>\n",
       "      <th>3</th>\n",
       "      <td>國聖(1)</td>\n",
       "      <td>2021-05-01 00:30:00</td>\n",
       "      <td>7010111</td>\n",
       "      <td>3.933</td>\n",
       "      <td>120.569126</td>\n",
       "      <td>24.092658</td>\n",
       "      <td>5</td>\n",
       "    </tr>\n",
       "    <tr>\n",
       "      <th>4</th>\n",
       "      <td>國聖(1)</td>\n",
       "      <td>2021-05-01 00:40:00</td>\n",
       "      <td>7010111</td>\n",
       "      <td>3.934</td>\n",
       "      <td>120.569126</td>\n",
       "      <td>24.092658</td>\n",
       "      <td>5</td>\n",
       "    </tr>\n",
       "    <tr>\n",
       "      <th>...</th>\n",
       "      <td>...</td>\n",
       "      <td>...</td>\n",
       "      <td>...</td>\n",
       "      <td>...</td>\n",
       "      <td>...</td>\n",
       "      <td>...</td>\n",
       "      <td>...</td>\n",
       "    </tr>\n",
       "    <tr>\n",
       "      <th>263689</th>\n",
       "      <td>東石(4)</td>\n",
       "      <td>2021-05-14 23:10:00</td>\n",
       "      <td>10090141</td>\n",
       "      <td>20.302</td>\n",
       "      <td>120.154469</td>\n",
       "      <td>23.460335</td>\n",
       "      <td>5</td>\n",
       "    </tr>\n",
       "    <tr>\n",
       "      <th>263690</th>\n",
       "      <td>東石(4)</td>\n",
       "      <td>2021-05-14 23:20:00</td>\n",
       "      <td>10090141</td>\n",
       "      <td>20.293</td>\n",
       "      <td>120.154469</td>\n",
       "      <td>23.460335</td>\n",
       "      <td>5</td>\n",
       "    </tr>\n",
       "    <tr>\n",
       "      <th>263691</th>\n",
       "      <td>東石(4)</td>\n",
       "      <td>2021-05-14 23:30:00</td>\n",
       "      <td>10090141</td>\n",
       "      <td>20.283</td>\n",
       "      <td>120.154469</td>\n",
       "      <td>23.460335</td>\n",
       "      <td>5</td>\n",
       "    </tr>\n",
       "    <tr>\n",
       "      <th>263692</th>\n",
       "      <td>東石(4)</td>\n",
       "      <td>2021-05-14 23:40:00</td>\n",
       "      <td>10090141</td>\n",
       "      <td>20.274</td>\n",
       "      <td>120.154469</td>\n",
       "      <td>23.460335</td>\n",
       "      <td>5</td>\n",
       "    </tr>\n",
       "    <tr>\n",
       "      <th>263693</th>\n",
       "      <td>東石(4)</td>\n",
       "      <td>2021-05-14 23:50:00</td>\n",
       "      <td>10090141</td>\n",
       "      <td>20.264</td>\n",
       "      <td>120.154469</td>\n",
       "      <td>23.460335</td>\n",
       "      <td>5</td>\n",
       "    </tr>\n",
       "  </tbody>\n",
       "</table>\n",
       "<p>263694 rows × 7 columns</p>\n",
       "</div>"
      ],
      "text/plain": [
       "           井名                 日期時間        井號  水面至井口深度         Lon        Lat  \\\n",
       "0       國聖(1)  2021-05-01 00:00:00   7010111    3.933  120.569126  24.092658   \n",
       "1       國聖(1)  2021-05-01 00:10:00   7010111    3.931  120.569126  24.092658   \n",
       "2       國聖(1)  2021-05-01 00:20:00   7010111    3.932  120.569126  24.092658   \n",
       "3       國聖(1)  2021-05-01 00:30:00   7010111    3.933  120.569126  24.092658   \n",
       "4       國聖(1)  2021-05-01 00:40:00   7010111    3.934  120.569126  24.092658   \n",
       "...       ...                  ...       ...      ...         ...        ...   \n",
       "263689  東石(4)  2021-05-14 23:10:00  10090141   20.302  120.154469  23.460335   \n",
       "263690  東石(4)  2021-05-14 23:20:00  10090141   20.293  120.154469  23.460335   \n",
       "263691  東石(4)  2021-05-14 23:30:00  10090141   20.283  120.154469  23.460335   \n",
       "263692  東石(4)  2021-05-14 23:40:00  10090141   20.274  120.154469  23.460335   \n",
       "263693  東石(4)  2021-05-14 23:50:00  10090141   20.264  120.154469  23.460335   \n",
       "\n",
       "        月  \n",
       "0       5  \n",
       "1       5  \n",
       "2       5  \n",
       "3       5  \n",
       "4       5  \n",
       "...    ..  \n",
       "263689  5  \n",
       "263690  5  \n",
       "263691  5  \n",
       "263692  5  \n",
       "263693  5  \n",
       "\n",
       "[263694 rows x 7 columns]"
      ]
     },
     "execution_count": 2,
     "metadata": {},
     "output_type": "execute_result"
    }
   ],
   "source": [
    "df = pd.read_csv('data/test.csv')\n",
    "df"
   ]
  },
  {
   "cell_type": "markdown",
   "metadata": {},
   "source": [
    "# Mark the sites by water level\n",
    "The function `visualization.Waterlvl().MarkbyEP()` have criterias [安全, 下限, 嚴重] to choose as input. If you input the wrong one, the script will pop up error message. My script can automatically recognize if the recent water level is in a decreasing or increasinf trend, and then choose the relevant exceedance probability (超越機率) as the determine value. If there is no historical month exceedance probabilty, the script will pick up the closet month as the database. The output has a boolean column, `wl_check`, to mark those sites passing the criteria.\n",
    "\n",
    "The script reads `data/wl_EP_20211107.csv` as the database recording exeedance probability. "
   ]
  },
  {
   "cell_type": "code",
   "execution_count": 3,
   "metadata": {},
   "outputs": [],
   "source": [
    "select = visualization.Waterlvl()\n",
    "df1 = select.MarkbyEP(df=df, criteria='安全')"
   ]
  },
  {
   "cell_type": "code",
   "execution_count": 4,
   "metadata": {},
   "outputs": [
    {
     "name": "stdout",
     "output_type": "stream",
     "text": [
      "Please set the criteria in the list of dict_keys(['安全', '下限', '嚴重'])\n"
     ]
    }
   ],
   "source": [
    "select.MarkbyEP(df=df, criteria='亂填')"
   ]
  },
  {
   "cell_type": "code",
   "execution_count": 5,
   "metadata": {},
   "outputs": [
    {
     "data": {
      "text/html": [
       "<div>\n",
       "<style scoped>\n",
       "    .dataframe tbody tr th:only-of-type {\n",
       "        vertical-align: middle;\n",
       "    }\n",
       "\n",
       "    .dataframe tbody tr th {\n",
       "        vertical-align: top;\n",
       "    }\n",
       "\n",
       "    .dataframe thead th {\n",
       "        text-align: right;\n",
       "    }\n",
       "</style>\n",
       "<table border=\"1\" class=\"dataframe\">\n",
       "  <thead>\n",
       "    <tr style=\"text-align: right;\">\n",
       "      <th></th>\n",
       "      <th>井名</th>\n",
       "      <th>井號</th>\n",
       "      <th>水面至井口深度</th>\n",
       "      <th>Lon</th>\n",
       "      <th>Lat</th>\n",
       "      <th>月</th>\n",
       "      <th>wl_check</th>\n",
       "    </tr>\n",
       "  </thead>\n",
       "  <tbody>\n",
       "    <tr>\n",
       "      <th>2021-05-14 23:50:00</th>\n",
       "      <td>國聖(1)</td>\n",
       "      <td>7010111</td>\n",
       "      <td>3.893</td>\n",
       "      <td>120.569126</td>\n",
       "      <td>24.092658</td>\n",
       "      <td>5</td>\n",
       "      <td>True</td>\n",
       "    </tr>\n",
       "    <tr>\n",
       "      <th>2021-05-14 23:50:00</th>\n",
       "      <td>東榮(1)</td>\n",
       "      <td>10050111</td>\n",
       "      <td>39.126</td>\n",
       "      <td>120.435512</td>\n",
       "      <td>23.557506</td>\n",
       "      <td>5</td>\n",
       "      <td>True</td>\n",
       "    </tr>\n",
       "    <tr>\n",
       "      <th>2021-05-14 23:50:00</th>\n",
       "      <td>安和(1)</td>\n",
       "      <td>10070111</td>\n",
       "      <td>21.695</td>\n",
       "      <td>120.312655</td>\n",
       "      <td>23.514751</td>\n",
       "      <td>5</td>\n",
       "      <td>True</td>\n",
       "    </tr>\n",
       "    <tr>\n",
       "      <th>2021-05-14 23:50:00</th>\n",
       "      <td>和豐(1)</td>\n",
       "      <td>9160212</td>\n",
       "      <td>20.494</td>\n",
       "      <td>120.231564</td>\n",
       "      <td>23.737339</td>\n",
       "      <td>5</td>\n",
       "      <td>True</td>\n",
       "    </tr>\n",
       "    <tr>\n",
       "      <th>2021-05-13 08:20:00</th>\n",
       "      <td>芳苑(1)</td>\n",
       "      <td>7230312</td>\n",
       "      <td>14.283</td>\n",
       "      <td>120.327834</td>\n",
       "      <td>23.920473</td>\n",
       "      <td>5</td>\n",
       "      <td>True</td>\n",
       "    </tr>\n",
       "    <tr>\n",
       "      <th>...</th>\n",
       "      <td>...</td>\n",
       "      <td>...</td>\n",
       "      <td>...</td>\n",
       "      <td>...</td>\n",
       "      <td>...</td>\n",
       "      <td>...</td>\n",
       "      <td>...</td>\n",
       "    </tr>\n",
       "    <tr>\n",
       "      <th>2021-05-14 23:50:00</th>\n",
       "      <td>明德(3)</td>\n",
       "      <td>9180331</td>\n",
       "      <td>24.969</td>\n",
       "      <td>120.199259</td>\n",
       "      <td>23.652903</td>\n",
       "      <td>5</td>\n",
       "      <td>True</td>\n",
       "    </tr>\n",
       "    <tr>\n",
       "      <th>2021-05-06 08:30:00</th>\n",
       "      <td>大溝(1)</td>\n",
       "      <td>9200211</td>\n",
       "      <td>38.773</td>\n",
       "      <td>120.210658</td>\n",
       "      <td>23.566151</td>\n",
       "      <td>5</td>\n",
       "      <td>True</td>\n",
       "    </tr>\n",
       "    <tr>\n",
       "      <th>2021-05-14 23:50:00</th>\n",
       "      <td>文昌(4)</td>\n",
       "      <td>7060141</td>\n",
       "      <td>14.036</td>\n",
       "      <td>120.419559</td>\n",
       "      <td>24.008117</td>\n",
       "      <td>5</td>\n",
       "      <td>True</td>\n",
       "    </tr>\n",
       "    <tr>\n",
       "      <th>2021-05-14 23:50:00</th>\n",
       "      <td>花壇(1)</td>\n",
       "      <td>7080111</td>\n",
       "      <td>2.508</td>\n",
       "      <td>120.543393</td>\n",
       "      <td>24.026659</td>\n",
       "      <td>5</td>\n",
       "      <td>False</td>\n",
       "    </tr>\n",
       "    <tr>\n",
       "      <th>2021-05-06 12:40:00</th>\n",
       "      <td>社頭(1)</td>\n",
       "      <td>7170211</td>\n",
       "      <td>7.64</td>\n",
       "      <td>120.593717</td>\n",
       "      <td>23.900657</td>\n",
       "      <td>5</td>\n",
       "      <td>True</td>\n",
       "    </tr>\n",
       "  </tbody>\n",
       "</table>\n",
       "<p>148 rows × 7 columns</p>\n",
       "</div>"
      ],
      "text/plain": [
       "                        井名        井號 水面至井口深度         Lon        Lat  月  \\\n",
       "2021-05-14 23:50:00  國聖(1)   7010111   3.893  120.569126  24.092658  5   \n",
       "2021-05-14 23:50:00  東榮(1)  10050111  39.126  120.435512  23.557506  5   \n",
       "2021-05-14 23:50:00  安和(1)  10070111  21.695  120.312655  23.514751  5   \n",
       "2021-05-14 23:50:00  和豐(1)   9160212  20.494  120.231564  23.737339  5   \n",
       "2021-05-13 08:20:00  芳苑(1)   7230312  14.283  120.327834  23.920473  5   \n",
       "...                    ...       ...     ...         ...        ... ..   \n",
       "2021-05-14 23:50:00  明德(3)   9180331  24.969  120.199259  23.652903  5   \n",
       "2021-05-06 08:30:00  大溝(1)   9200211  38.773  120.210658  23.566151  5   \n",
       "2021-05-14 23:50:00  文昌(4)   7060141  14.036  120.419559  24.008117  5   \n",
       "2021-05-14 23:50:00  花壇(1)   7080111   2.508  120.543393  24.026659  5   \n",
       "2021-05-06 12:40:00  社頭(1)   7170211    7.64  120.593717  23.900657  5   \n",
       "\n",
       "                     wl_check  \n",
       "2021-05-14 23:50:00      True  \n",
       "2021-05-14 23:50:00      True  \n",
       "2021-05-14 23:50:00      True  \n",
       "2021-05-14 23:50:00      True  \n",
       "2021-05-13 08:20:00      True  \n",
       "...                       ...  \n",
       "2021-05-14 23:50:00      True  \n",
       "2021-05-06 08:30:00      True  \n",
       "2021-05-14 23:50:00      True  \n",
       "2021-05-14 23:50:00     False  \n",
       "2021-05-06 12:40:00      True  \n",
       "\n",
       "[148 rows x 7 columns]"
      ]
     },
     "execution_count": 5,
     "metadata": {},
     "output_type": "execute_result"
    }
   ],
   "source": [
    "df1"
   ]
  },
  {
   "cell_type": "code",
   "execution_count": 6,
   "metadata": {},
   "outputs": [
    {
     "data": {
      "text/plain": [
       "129"
      ]
     },
     "execution_count": 6,
     "metadata": {},
     "output_type": "execute_result"
    }
   ],
   "source": [
    "df1.wl_check.sum()"
   ]
  },
  {
   "cell_type": "markdown",
   "metadata": {},
   "source": [
    "148 input sites have 129 passing the criteria of water level."
   ]
  },
  {
   "cell_type": "markdown",
   "metadata": {},
   "source": [
    "# Mark the sites by water quality\n",
    "The function `visualization.Waterquality().MarkbySTD()` have `std_name` to input the desired standard (法規標準). The standards in our database are ['飲用水水源水質標準第五條', '飲用水水源水質標準第六條', '地下水污染監測標準第一類', '地下水污染監測標準第二類', '地下水污染管制標準第一類', '地下水污染管制標準第二類', '灌溉用水水質標準', '再生水用於工業用途水質基礎建議值一', '再生水用於工業用途水質基礎建議值二']. If you input the wrong one, the script will pop up error message. During recognition, the sites not having any historical measurements will be shown in the message. If a site has more than 3 measurement not passing the selected standard in any analyte, the site is marked `False` in the output boolean clumn, `wa_check`.\n",
    "\n",
    "The output dataset can be saved into csv and used for GIS plotting."
   ]
  },
  {
   "cell_type": "code",
   "execution_count": 15,
   "metadata": {},
   "outputs": [
    {
     "name": "stdout",
     "output_type": "stream",
     "text": [
      "9060212 has no water quality measurement\n",
      "9170231 has no water quality measurement\n"
     ]
    }
   ],
   "source": [
    "select = visualization.Waterquality()\n",
    "out_df = select.MarkbySTD(df=df1, std_name='飲用水水源水質標準第五條')"
   ]
  },
  {
   "cell_type": "code",
   "execution_count": 16,
   "metadata": {},
   "outputs": [
    {
     "name": "stdout",
     "output_type": "stream",
     "text": [
      "Please input the std_name (法規名稱) in the list: ['飲用水水源水質標準第五條', '飲用水水源水質標準第六條', '地下水污染監測標準第一類', '地下水污染監測標準第二類', '地下水污染管制標準第一類', '地下水污染管制標準第二類', '灌溉用水水質標準', '再生水用於工業用途水質基礎建議值一', '再生水用於工業用途水質基礎建議值二']\n"
     ]
    }
   ],
   "source": [
    "select.MarkbySTD(df=df1, std_name='亂填')"
   ]
  },
  {
   "cell_type": "code",
   "execution_count": 17,
   "metadata": {},
   "outputs": [
    {
     "data": {
      "text/html": [
       "<div>\n",
       "<style scoped>\n",
       "    .dataframe tbody tr th:only-of-type {\n",
       "        vertical-align: middle;\n",
       "    }\n",
       "\n",
       "    .dataframe tbody tr th {\n",
       "        vertical-align: top;\n",
       "    }\n",
       "\n",
       "    .dataframe thead th {\n",
       "        text-align: right;\n",
       "    }\n",
       "</style>\n",
       "<table border=\"1\" class=\"dataframe\">\n",
       "  <thead>\n",
       "    <tr style=\"text-align: right;\">\n",
       "      <th></th>\n",
       "      <th>井名</th>\n",
       "      <th>井號</th>\n",
       "      <th>水面至井口深度</th>\n",
       "      <th>Lon</th>\n",
       "      <th>Lat</th>\n",
       "      <th>月</th>\n",
       "      <th>wl_check</th>\n",
       "      <th>wa_check</th>\n",
       "    </tr>\n",
       "  </thead>\n",
       "  <tbody>\n",
       "    <tr>\n",
       "      <th>2021-05-14 23:50:00</th>\n",
       "      <td>國聖(1)</td>\n",
       "      <td>7010111</td>\n",
       "      <td>3.893</td>\n",
       "      <td>120.569126</td>\n",
       "      <td>24.092658</td>\n",
       "      <td>5</td>\n",
       "      <td>True</td>\n",
       "      <td>False</td>\n",
       "    </tr>\n",
       "    <tr>\n",
       "      <th>2021-05-14 23:50:00</th>\n",
       "      <td>東榮(1)</td>\n",
       "      <td>10050111</td>\n",
       "      <td>39.126</td>\n",
       "      <td>120.435512</td>\n",
       "      <td>23.557506</td>\n",
       "      <td>5</td>\n",
       "      <td>True</td>\n",
       "      <td>False</td>\n",
       "    </tr>\n",
       "    <tr>\n",
       "      <th>2021-05-14 23:50:00</th>\n",
       "      <td>安和(1)</td>\n",
       "      <td>10070111</td>\n",
       "      <td>21.695</td>\n",
       "      <td>120.312655</td>\n",
       "      <td>23.514751</td>\n",
       "      <td>5</td>\n",
       "      <td>True</td>\n",
       "      <td>False</td>\n",
       "    </tr>\n",
       "    <tr>\n",
       "      <th>2021-05-14 23:50:00</th>\n",
       "      <td>和豐(1)</td>\n",
       "      <td>9160212</td>\n",
       "      <td>20.494</td>\n",
       "      <td>120.231564</td>\n",
       "      <td>23.737339</td>\n",
       "      <td>5</td>\n",
       "      <td>True</td>\n",
       "      <td>True</td>\n",
       "    </tr>\n",
       "    <tr>\n",
       "      <th>2021-05-13 08:20:00</th>\n",
       "      <td>芳苑(1)</td>\n",
       "      <td>7230312</td>\n",
       "      <td>14.283</td>\n",
       "      <td>120.327834</td>\n",
       "      <td>23.920473</td>\n",
       "      <td>5</td>\n",
       "      <td>True</td>\n",
       "      <td>True</td>\n",
       "    </tr>\n",
       "    <tr>\n",
       "      <th>...</th>\n",
       "      <td>...</td>\n",
       "      <td>...</td>\n",
       "      <td>...</td>\n",
       "      <td>...</td>\n",
       "      <td>...</td>\n",
       "      <td>...</td>\n",
       "      <td>...</td>\n",
       "      <td>...</td>\n",
       "    </tr>\n",
       "    <tr>\n",
       "      <th>2021-05-14 23:50:00</th>\n",
       "      <td>明德(3)</td>\n",
       "      <td>9180331</td>\n",
       "      <td>24.969</td>\n",
       "      <td>120.199259</td>\n",
       "      <td>23.652903</td>\n",
       "      <td>5</td>\n",
       "      <td>True</td>\n",
       "      <td>False</td>\n",
       "    </tr>\n",
       "    <tr>\n",
       "      <th>2021-05-06 08:30:00</th>\n",
       "      <td>大溝(1)</td>\n",
       "      <td>9200211</td>\n",
       "      <td>38.773</td>\n",
       "      <td>120.210658</td>\n",
       "      <td>23.566151</td>\n",
       "      <td>5</td>\n",
       "      <td>True</td>\n",
       "      <td>False</td>\n",
       "    </tr>\n",
       "    <tr>\n",
       "      <th>2021-05-14 23:50:00</th>\n",
       "      <td>文昌(4)</td>\n",
       "      <td>7060141</td>\n",
       "      <td>14.036</td>\n",
       "      <td>120.419559</td>\n",
       "      <td>24.008117</td>\n",
       "      <td>5</td>\n",
       "      <td>True</td>\n",
       "      <td>False</td>\n",
       "    </tr>\n",
       "    <tr>\n",
       "      <th>2021-05-14 23:50:00</th>\n",
       "      <td>花壇(1)</td>\n",
       "      <td>7080111</td>\n",
       "      <td>2.508</td>\n",
       "      <td>120.543393</td>\n",
       "      <td>24.026659</td>\n",
       "      <td>5</td>\n",
       "      <td>False</td>\n",
       "      <td>False</td>\n",
       "    </tr>\n",
       "    <tr>\n",
       "      <th>2021-05-06 12:40:00</th>\n",
       "      <td>社頭(1)</td>\n",
       "      <td>7170211</td>\n",
       "      <td>7.64</td>\n",
       "      <td>120.593717</td>\n",
       "      <td>23.900657</td>\n",
       "      <td>5</td>\n",
       "      <td>True</td>\n",
       "      <td>True</td>\n",
       "    </tr>\n",
       "  </tbody>\n",
       "</table>\n",
       "<p>148 rows × 8 columns</p>\n",
       "</div>"
      ],
      "text/plain": [
       "                        井名        井號 水面至井口深度         Lon        Lat  月  \\\n",
       "2021-05-14 23:50:00  國聖(1)   7010111   3.893  120.569126  24.092658  5   \n",
       "2021-05-14 23:50:00  東榮(1)  10050111  39.126  120.435512  23.557506  5   \n",
       "2021-05-14 23:50:00  安和(1)  10070111  21.695  120.312655  23.514751  5   \n",
       "2021-05-14 23:50:00  和豐(1)   9160212  20.494  120.231564  23.737339  5   \n",
       "2021-05-13 08:20:00  芳苑(1)   7230312  14.283  120.327834  23.920473  5   \n",
       "...                    ...       ...     ...         ...        ... ..   \n",
       "2021-05-14 23:50:00  明德(3)   9180331  24.969  120.199259  23.652903  5   \n",
       "2021-05-06 08:30:00  大溝(1)   9200211  38.773  120.210658  23.566151  5   \n",
       "2021-05-14 23:50:00  文昌(4)   7060141  14.036  120.419559  24.008117  5   \n",
       "2021-05-14 23:50:00  花壇(1)   7080111   2.508  120.543393  24.026659  5   \n",
       "2021-05-06 12:40:00  社頭(1)   7170211    7.64  120.593717  23.900657  5   \n",
       "\n",
       "                     wl_check  wa_check  \n",
       "2021-05-14 23:50:00      True     False  \n",
       "2021-05-14 23:50:00      True     False  \n",
       "2021-05-14 23:50:00      True     False  \n",
       "2021-05-14 23:50:00      True      True  \n",
       "2021-05-13 08:20:00      True      True  \n",
       "...                       ...       ...  \n",
       "2021-05-14 23:50:00      True     False  \n",
       "2021-05-06 08:30:00      True     False  \n",
       "2021-05-14 23:50:00      True     False  \n",
       "2021-05-14 23:50:00     False     False  \n",
       "2021-05-06 12:40:00      True      True  \n",
       "\n",
       "[148 rows x 8 columns]"
      ]
     },
     "execution_count": 17,
     "metadata": {},
     "output_type": "execute_result"
    }
   ],
   "source": [
    "out_df"
   ]
  },
  {
   "cell_type": "code",
   "execution_count": 18,
   "metadata": {},
   "outputs": [
    {
     "data": {
      "text/plain": [
       "50"
      ]
     },
     "execution_count": 18,
     "metadata": {},
     "output_type": "execute_result"
    }
   ],
   "source": [
    "out_df.wa_check.sum()"
   ]
  },
  {
   "cell_type": "markdown",
   "metadata": {},
   "source": [
    "Only 50 sites passing the water quality check from 148 sites."
   ]
  },
  {
   "cell_type": "code",
   "execution_count": 19,
   "metadata": {},
   "outputs": [
    {
     "name": "stdout",
     "output_type": "stream",
     "text": [
      "45\n",
      "['和豐(1)' '芳苑(1)' '全興(2)' '青山(1)' '興化(2)' '客厝(2)' '客厝(1)' '青山(2)' '潭墘(2)'\n",
      " '永定' '全興(1)' '花橋(3)' '潭墘(1)' '芳苑(3)' '員林(1)' '芳苑(2)' '興化(3)' '崙子(2)'\n",
      " '趙甲(3)' '崙子(1)' '安南(2)' '全興(3)' '和豐(2)' '東和(1)' '趙甲(1)' '香田(1)' '忠孝'\n",
      " '石榴(2)' '石榴(3)' '元長(2)' '元長(1)' '香田(2)' '安南(1)' '土庫(2)' '東和(2)' '溪湖(2)'\n",
      " '秀潭' '柑園新(2)' '嘉興(2)' '花橋(1)' '嘉興(3)' '西港(1)' '西港(2)' '花橋(2)' '社頭(1)']\n",
      "['9160212' '7230312' '7050122' '7100211' '9130222' '9170421' '9170411'\n",
      " '7100221' '7240122' '9110211' '7050112' '7080132' '7240112' '7230332'\n",
      " '7100112' '7230322' '9130232' '9170122' '7200132' '9170112' '9140122'\n",
      " '7050132' '9160222' '9070112' '7200112' '7200212' '9170311' '9010222'\n",
      " '9010231' '9170222' '9170212' '7200222' '9140112' '9050321' '9070122'\n",
      " '7110122' '9050211' '7260122' '9080122' '7080112' '9080132' '7240213'\n",
      " '7240223' '7080122' '7170211']\n"
     ]
    }
   ],
   "source": [
    "mask = out_df.wl_check.values & out_df.wa_check.values\n",
    "\n",
    "print(mask.sum())\n",
    "print(out_df.loc[mask, '井名'].values)\n",
    "print(out_df.loc[mask, '井號'].values)"
   ]
  },
  {
   "cell_type": "markdown",
   "metadata": {},
   "source": [
    "Only these 45 sites can be selected as the proper backup groundwater resources."
   ]
  },
  {
   "cell_type": "markdown",
   "metadata": {},
   "source": [
    "# Plot the historical water quality of the selected site and standard\n",
    "If you wish to output the figures, please set `savefig` to True. The figure is in png (200dpi) format.  The visualization uses the data in `database_ZAF_wa_merged_20211031.xlsx` and `stds_and_cols.xlsx`."
   ]
  },
  {
   "cell_type": "code",
   "execution_count": 25,
   "metadata": {},
   "outputs": [
    {
     "data": {
      "image/png": "[encoded data removed]",
      "text/plain": [
       "<Figure size 504x360 with 1 Axes>"
      ]
     },
     "metadata": {
      "needs_background": "light"
     },
     "output_type": "display_data"
    },
    {
     "data": {
      "image/png": "[encoded data removed]",
      "text/plain": [
       "<Figure size 504x360 with 1 Axes>"
      ]
     },
     "metadata": {
      "needs_background": "light"
     },
     "output_type": "display_data"
    },
    {
     "data": {
      "image/png": "[encoded data removed]",
      "text/plain": [
       "<Figure size 504x360 with 1 Axes>"
      ]
     },
     "metadata": {
      "needs_background": "light"
     },
     "output_type": "display_data"
    },
    {
     "data": {
      "image/png": "[encoded data removed]",
      "text/plain": [
       "<Figure size 504x360 with 1 Axes>"
      ]
     },
     "metadata": {
      "needs_background": "light"
     },
     "output_type": "display_data"
    },
    {
     "data": {
      "image/png": "[encoded data removed]",
      "text/plain": [
       "<Figure size 504x360 with 1 Axes>"
      ]
     },
     "metadata": {
      "needs_background": "light"
     },
     "output_type": "display_data"
    },
    {
     "data": {
      "image/png": "[encoded data removed]",
      "text/plain": [
       "<Figure size 504x360 with 1 Axes>"
      ]
     },
     "metadata": {
      "needs_background": "light"
     },
     "output_type": "display_data"
    },
    {
     "data": {
      "image/png": "[encoded data removed]",
      "text/plain": [
       "<Figure size 504x360 with 1 Axes>"
      ]
     },
     "metadata": {
      "needs_background": "light"
     },
     "output_type": "display_data"
    }
   ],
   "source": [
    "select = visualization.Waterquality()\n",
    "select.plot(siteid='7100211', std_name='飲用水水源水質標準第五條', savefig=False)"
   ]
  }
 ],
 "metadata": {
  "language_info": {
   "name": "python"
  },
  "orig_nbformat": 4
 },
 "nbformat": 4,
 "nbformat_minor": 2
}
