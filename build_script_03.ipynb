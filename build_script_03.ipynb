{
 "cells": [
  {
   "cell_type": "markdown",
   "metadata": {},
   "source": [
    "This is to build the script for checking water quality in visualization.py."
   ]
  },
  {
   "cell_type": "code",
   "execution_count": 1,
   "metadata": {},
   "outputs": [],
   "source": [
    "import numpy as np\n",
    "import pandas as pd\n",
    "import matplotlib.pyplot as plt\n",
    "\n",
    "plt.style.use(['seaborn-colorblind', 'seaborn-talk'])\n",
    "plt.rcParams['figure.dpi'] = 200\n",
    "plt.rcParams['savefig.dpi'] = 200\n",
    "plt.rcParams['savefig.bbox'] = 'tight'\n",
    "plt.rcParams['font.sans-serif'] = ['Taipei Sans TC Beta'] # to plot Chinese words properly\n",
    "\n",
    "import datetime\n",
    "date = datetime.datetime.now().strftime('%Y%m%d')"
   ]
  },
  {
   "cell_type": "code",
   "execution_count": 4,
   "metadata": {},
   "outputs": [],
   "source": [
    "wa_dir = 'data/database_ZAF_wa_merged_20211031.xlsx'\n",
    "excel_dir = 'data/stds_and_cols.xlsx'\n",
    "output_dir = 'results/',\n",
    "excel_cols = ['項目', '單位', '飲用水水源水質標準第五條',\n",
    "'飲用水水源水質標準第六條', '地下水污染監測標準第一類', \n",
    "'地下水污染監測標準第二類', '地下水污染管制標準第一類', \n",
    "'地下水污染管制標準第二類', '灌溉用水水質標準', \n",
    "'再生水用於工業用途水質基礎建議值一', \n",
    "'再生水用於工業用途水質基礎建議值二']\n",
    "\n",
    "wa_df = pd.read_excel(wa_dir, parse_dates=['日期時間'])\n",
    "wa_df['日期'] = pd.to_datetime([_.strftime('%Y-%m-%d') for _ in wa_df['日期時間']])\n",
    "wa_df['井號'] = wa_df['井號'].astype(str)\n",
    "std_df = pd.read_excel(excel_dir, usecols=excel_cols)"
   ]
  },
  {
   "cell_type": "code",
   "execution_count": null,
   "metadata": {},
   "outputs": [],
   "source": [
    "import visualization\n",
    "\n",
    "# use the 2021-05-01 to 2021-05-15 as the toy data\n",
    "df = pd.read_csv('data/test.csv')\n",
    "select = visualization.Waterlvl()\n",
    "df = select.MarkbyEP(df=df)\n",
    "std_name = '再生水用於工業用途水質基礎建議值一'"
   ]
  },
  {
   "cell_type": "markdown",
   "metadata": {},
   "source": [
    "# Bugs fixing\n",
    "1. Wrong asignment?<br>\n",
    "`site_name = X['井名'][0]` trigers the error that no idex is 0.<br>\n",
    "Solution: add `.reset_index(drop=True)` behind `X = wa_df[wa_df['井號'] == siteid]`.\n",
    "\n",
    "2. Empty slicing dataframe?<br>\n",
    "After `X = wa_df[wa_df['井號'] == siteid].reset_index(drop=True)`, the dataframe `X` has nothing, which causes the later codes error.<br>\n",
    "Solution: check the siteid. They really don't have quality measurement, so I skip them but still print them out in case they need double chckeck."
   ]
  },
  {
   "cell_type": "code",
   "execution_count": 3,
   "metadata": {},
   "outputs": [
    {
     "name": "stdout",
     "output_type": "stream",
     "text": [
      "<class 'pandas.core.frame.DataFrame'>\n",
      "Index: 148 entries, 2021-05-14 23:50:00 to 2021-05-06 12:40:00\n",
      "Data columns (total 7 columns):\n",
      " #   Column    Non-Null Count  Dtype \n",
      "---  ------    --------------  ----- \n",
      " 0   井名        148 non-null    object\n",
      " 1   井號        148 non-null    object\n",
      " 2   水面至井口深度   148 non-null    object\n",
      " 3   Lon       148 non-null    object\n",
      " 4   Lat       148 non-null    object\n",
      " 5   月         148 non-null    object\n",
      " 6   wl_check  148 non-null    bool  \n",
      "dtypes: bool(1), object(6)\n",
      "memory usage: 8.2+ KB\n"
     ]
    }
   ],
   "source": [
    "df.info()"
   ]
  },
  {
   "cell_type": "code",
   "execution_count": 11,
   "metadata": {},
   "outputs": [
    {
     "name": "stdout",
     "output_type": "stream",
     "text": [
      "7010111\n",
      "10050111\n",
      "10070111\n",
      "9160212\n",
      "7230312\n",
      "9190142\n",
      "7050122\n",
      "9130122\n",
      "9180121\n",
      "7100211\n",
      "9020111\n",
      "7040121\n",
      "7220231\n",
      "9010212\n",
      "7020111\n",
      "9180111\n",
      "7220221\n",
      "9130222\n",
      "10090121\n",
      "9170421\n",
      "9070311\n",
      "9170411\n",
      "7100221\n",
      "9130211\n",
      "10090111\n",
      "9050121\n",
      "9010112\n",
      "7010211\n",
      "9010122\n",
      "7240122\n",
      "9110211\n",
      "9050111\n",
      "9200111\n",
      "7050112\n",
      "9180311\n",
      "7080132\n",
      "7240112\n",
      "9120121\n",
      "9180221\n",
      "7080141\n",
      "7230332\n",
      "9120131\n",
      "7060121\n",
      "9190112\n",
      "9080111\n",
      "8040222\n",
      "9180131\n",
      "7100112\n",
      "7230322\n",
      "9130112\n",
      "7220211\n",
      "7080131\n",
      "9130232\n",
      "7210121\n",
      "10050121\n",
      "7020121\n",
      "9170122\n",
      "7140121\n",
      "7200132\n",
      "9150131\n",
      "9170112\n",
      "7140131\n",
      "10090131\n",
      "9160141\n",
      "9140122\n",
      "8060211\n",
      "7040141\n",
      "9200221\n",
      "9190132\n",
      "7050132\n",
      "9160222\n",
      "9070112\n",
      "8060121\n",
      "7200112\n",
      "10050131\n",
      "7200121\n",
      "9060212\n"
     ]
    },
    {
     "ename": "KeyError",
     "evalue": "0",
     "output_type": "error",
     "traceback": [
      "\u001b[1;31m---------------------------------------------------------------------------\u001b[0m",
      "\u001b[1;31mValueError\u001b[0m                                Traceback (most recent call last)",
      "\u001b[1;32m~\\Miniconda3\\envs\\ncdr\\lib\\site-packages\\pandas\\core\\indexes\\range.py\u001b[0m in \u001b[0;36mget_loc\u001b[1;34m(self, key, method, tolerance)\u001b[0m\n\u001b[0;32m    384\u001b[0m                 \u001b[1;32mtry\u001b[0m\u001b[1;33m:\u001b[0m\u001b[1;33m\u001b[0m\u001b[1;33m\u001b[0m\u001b[0m\n\u001b[1;32m--> 385\u001b[1;33m                     \u001b[1;32mreturn\u001b[0m \u001b[0mself\u001b[0m\u001b[1;33m.\u001b[0m\u001b[0m_range\u001b[0m\u001b[1;33m.\u001b[0m\u001b[0mindex\u001b[0m\u001b[1;33m(\u001b[0m\u001b[0mnew_key\u001b[0m\u001b[1;33m)\u001b[0m\u001b[1;33m\u001b[0m\u001b[1;33m\u001b[0m\u001b[0m\n\u001b[0m\u001b[0;32m    386\u001b[0m                 \u001b[1;32mexcept\u001b[0m \u001b[0mValueError\u001b[0m \u001b[1;32mas\u001b[0m \u001b[0merr\u001b[0m\u001b[1;33m:\u001b[0m\u001b[1;33m\u001b[0m\u001b[1;33m\u001b[0m\u001b[0m\n",
      "\u001b[1;31mValueError\u001b[0m: 0 is not in range",
      "\nThe above exception was the direct cause of the following exception:\n",
      "\u001b[1;31mKeyError\u001b[0m                                  Traceback (most recent call last)",
      "\u001b[1;32m~\\AppData\\Local\\Temp/ipykernel_13360/2589165037.py\u001b[0m in \u001b[0;36m<module>\u001b[1;34m\u001b[0m\n\u001b[0;32m      9\u001b[0m     \u001b[1;31m# pick up the site name\u001b[0m\u001b[1;33m\u001b[0m\u001b[1;33m\u001b[0m\u001b[0m\n\u001b[0;32m     10\u001b[0m     \u001b[0mprint\u001b[0m\u001b[1;33m(\u001b[0m\u001b[0msiteid\u001b[0m\u001b[1;33m)\u001b[0m\u001b[1;33m\u001b[0m\u001b[1;33m\u001b[0m\u001b[0m\n\u001b[1;32m---> 11\u001b[1;33m     \u001b[0msite_name\u001b[0m \u001b[1;33m=\u001b[0m \u001b[0mX\u001b[0m\u001b[1;33m[\u001b[0m\u001b[1;34m'井名'\u001b[0m\u001b[1;33m]\u001b[0m\u001b[1;33m[\u001b[0m\u001b[1;36m0\u001b[0m\u001b[1;33m]\u001b[0m\u001b[1;33m\u001b[0m\u001b[1;33m\u001b[0m\u001b[0m\n\u001b[0m",
      "\u001b[1;32m~\\Miniconda3\\envs\\ncdr\\lib\\site-packages\\pandas\\core\\series.py\u001b[0m in \u001b[0;36m__getitem__\u001b[1;34m(self, key)\u001b[0m\n\u001b[0;32m    940\u001b[0m \u001b[1;33m\u001b[0m\u001b[0m\n\u001b[0;32m    941\u001b[0m         \u001b[1;32melif\u001b[0m \u001b[0mkey_is_scalar\u001b[0m\u001b[1;33m:\u001b[0m\u001b[1;33m\u001b[0m\u001b[1;33m\u001b[0m\u001b[0m\n\u001b[1;32m--> 942\u001b[1;33m             \u001b[1;32mreturn\u001b[0m \u001b[0mself\u001b[0m\u001b[1;33m.\u001b[0m\u001b[0m_get_value\u001b[0m\u001b[1;33m(\u001b[0m\u001b[0mkey\u001b[0m\u001b[1;33m)\u001b[0m\u001b[1;33m\u001b[0m\u001b[1;33m\u001b[0m\u001b[0m\n\u001b[0m\u001b[0;32m    943\u001b[0m \u001b[1;33m\u001b[0m\u001b[0m\n\u001b[0;32m    944\u001b[0m         \u001b[1;32mif\u001b[0m \u001b[0mis_hashable\u001b[0m\u001b[1;33m(\u001b[0m\u001b[0mkey\u001b[0m\u001b[1;33m)\u001b[0m\u001b[1;33m:\u001b[0m\u001b[1;33m\u001b[0m\u001b[1;33m\u001b[0m\u001b[0m\n",
      "\u001b[1;32m~\\Miniconda3\\envs\\ncdr\\lib\\site-packages\\pandas\\core\\series.py\u001b[0m in \u001b[0;36m_get_value\u001b[1;34m(self, label, takeable)\u001b[0m\n\u001b[0;32m   1049\u001b[0m \u001b[1;33m\u001b[0m\u001b[0m\n\u001b[0;32m   1050\u001b[0m         \u001b[1;31m# Similar to Index.get_value, but we do not fall back to positional\u001b[0m\u001b[1;33m\u001b[0m\u001b[1;33m\u001b[0m\u001b[0m\n\u001b[1;32m-> 1051\u001b[1;33m         \u001b[0mloc\u001b[0m \u001b[1;33m=\u001b[0m \u001b[0mself\u001b[0m\u001b[1;33m.\u001b[0m\u001b[0mindex\u001b[0m\u001b[1;33m.\u001b[0m\u001b[0mget_loc\u001b[0m\u001b[1;33m(\u001b[0m\u001b[0mlabel\u001b[0m\u001b[1;33m)\u001b[0m\u001b[1;33m\u001b[0m\u001b[1;33m\u001b[0m\u001b[0m\n\u001b[0m\u001b[0;32m   1052\u001b[0m         \u001b[1;32mreturn\u001b[0m \u001b[0mself\u001b[0m\u001b[1;33m.\u001b[0m\u001b[0mindex\u001b[0m\u001b[1;33m.\u001b[0m\u001b[0m_get_values_for_loc\u001b[0m\u001b[1;33m(\u001b[0m\u001b[0mself\u001b[0m\u001b[1;33m,\u001b[0m \u001b[0mloc\u001b[0m\u001b[1;33m,\u001b[0m \u001b[0mlabel\u001b[0m\u001b[1;33m)\u001b[0m\u001b[1;33m\u001b[0m\u001b[1;33m\u001b[0m\u001b[0m\n\u001b[0;32m   1053\u001b[0m \u001b[1;33m\u001b[0m\u001b[0m\n",
      "\u001b[1;32m~\\Miniconda3\\envs\\ncdr\\lib\\site-packages\\pandas\\core\\indexes\\range.py\u001b[0m in \u001b[0;36mget_loc\u001b[1;34m(self, key, method, tolerance)\u001b[0m\n\u001b[0;32m    385\u001b[0m                     \u001b[1;32mreturn\u001b[0m \u001b[0mself\u001b[0m\u001b[1;33m.\u001b[0m\u001b[0m_range\u001b[0m\u001b[1;33m.\u001b[0m\u001b[0mindex\u001b[0m\u001b[1;33m(\u001b[0m\u001b[0mnew_key\u001b[0m\u001b[1;33m)\u001b[0m\u001b[1;33m\u001b[0m\u001b[1;33m\u001b[0m\u001b[0m\n\u001b[0;32m    386\u001b[0m                 \u001b[1;32mexcept\u001b[0m \u001b[0mValueError\u001b[0m \u001b[1;32mas\u001b[0m \u001b[0merr\u001b[0m\u001b[1;33m:\u001b[0m\u001b[1;33m\u001b[0m\u001b[1;33m\u001b[0m\u001b[0m\n\u001b[1;32m--> 387\u001b[1;33m                     \u001b[1;32mraise\u001b[0m \u001b[0mKeyError\u001b[0m\u001b[1;33m(\u001b[0m\u001b[0mkey\u001b[0m\u001b[1;33m)\u001b[0m \u001b[1;32mfrom\u001b[0m \u001b[0merr\u001b[0m\u001b[1;33m\u001b[0m\u001b[1;33m\u001b[0m\u001b[0m\n\u001b[0m\u001b[0;32m    388\u001b[0m             \u001b[1;32mraise\u001b[0m \u001b[0mKeyError\u001b[0m\u001b[1;33m(\u001b[0m\u001b[0mkey\u001b[0m\u001b[1;33m)\u001b[0m\u001b[1;33m\u001b[0m\u001b[1;33m\u001b[0m\u001b[0m\n\u001b[0;32m    389\u001b[0m         \u001b[1;32mreturn\u001b[0m \u001b[0msuper\u001b[0m\u001b[1;33m(\u001b[0m\u001b[1;33m)\u001b[0m\u001b[1;33m.\u001b[0m\u001b[0mget_loc\u001b[0m\u001b[1;33m(\u001b[0m\u001b[0mkey\u001b[0m\u001b[1;33m,\u001b[0m \u001b[0mmethod\u001b[0m\u001b[1;33m=\u001b[0m\u001b[0mmethod\u001b[0m\u001b[1;33m,\u001b[0m \u001b[0mtolerance\u001b[0m\u001b[1;33m=\u001b[0m\u001b[0mtolerance\u001b[0m\u001b[1;33m)\u001b[0m\u001b[1;33m\u001b[0m\u001b[1;33m\u001b[0m\u001b[0m\n",
      "\u001b[1;31mKeyError\u001b[0m: 0"
     ]
    }
   ],
   "source": [
    "check = True\n",
    "check_list=[]\n",
    "out_df = pd.DataFrame()\n",
    "for siteid in df['井號'].astype(str).unique():\n",
    "    # collect the analytes having value in the standard (std_name) and '日期'\n",
    "    cols = np.hstack([std_df.loc[~std_df[std_name].isna(), '項目'], '日期'])\n",
    "    # select the data points of that siteid\n",
    "    X = wa_df[wa_df['井號'] == siteid].reset_index(drop=True)\n",
    "    # pick up the site name\n",
    "    print(siteid)\n",
    "    site_name = X['井名'][0]"
   ]
  },
  {
   "cell_type": "code",
   "execution_count": 12,
   "metadata": {},
   "outputs": [
    {
     "data": {
      "text/html": [
       "<div>\n",
       "<style scoped>\n",
       "    .dataframe tbody tr th:only-of-type {\n",
       "        vertical-align: middle;\n",
       "    }\n",
       "\n",
       "    .dataframe tbody tr th {\n",
       "        vertical-align: top;\n",
       "    }\n",
       "\n",
       "    .dataframe thead th {\n",
       "        text-align: right;\n",
       "    }\n",
       "</style>\n",
       "<table border=\"1\" class=\"dataframe\">\n",
       "  <thead>\n",
       "    <tr style=\"text-align: right;\">\n",
       "      <th></th>\n",
       "      <th>井名</th>\n",
       "      <th>資料來源</th>\n",
       "      <th>日期時間</th>\n",
       "      <th>井號</th>\n",
       "      <th>緯度</th>\n",
       "      <th>經度</th>\n",
       "      <th>溫度</th>\n",
       "      <th>電導度</th>\n",
       "      <th>氨氮</th>\n",
       "      <th>氫離子濃度指數</th>\n",
       "      <th>...</th>\n",
       "      <th>1, 1 -二氯乙烷</th>\n",
       "      <th>1, 1, 2 -三氯乙烷</th>\n",
       "      <th>二氯甲烷</th>\n",
       "      <th>氯甲烷</th>\n",
       "      <th>甲基第三丁基醚</th>\n",
       "      <th>1, 1, 1 -三氯乙烷</th>\n",
       "      <th>1,2- 二氯苯</th>\n",
       "      <th>有機氮</th>\n",
       "      <th>懸浮固體物</th>\n",
       "      <th>日期</th>\n",
       "    </tr>\n",
       "  </thead>\n",
       "  <tbody>\n",
       "  </tbody>\n",
       "</table>\n",
       "<p>0 rows × 68 columns</p>\n",
       "</div>"
      ],
      "text/plain": [
       "Empty DataFrame\n",
       "Columns: [井名, 資料來源, 日期時間, 井號, 緯度, 經度, 溫度, 電導度, 氨氮, 氫離子濃度指數, 錳, 鐵, 氯鹽, 硫酸鹽, 總有機碳, 鋅, 砷, 銅, 鎘, 鉻, 鈣, 鉛, 鈉, 鎂, 鉀, 總硬度, 總溶解固體物, 亞硝酸鹽氮, 井別, 鹼度, 水面至井口深度, 氧化還原電位, 硝酸鹽氮, 大腸桿菌群, 硫化物, 碳酸氫根, 鎳, 汞, 酚類, 氟鹽, 碳酸根, 溶氧量, 甲苯, 氯仿, 氯苯, 萘, 二甲苯, 對二氯苯, 乙苯, 1, 2 -二氯乙烷 , 四氯化碳, 苯, 反1, 2 -二氯乙烯, 順1, 2 -二氯乙烯, 三氯乙烯, 四氯乙烯, 氯乙烯, 1, 1 -二氯乙烯, 1, 1 -二氯乙烷 , 1, 1, 2 -三氯乙烷, 二氯甲烷, 氯甲烷, 甲基第三丁基醚, 1, 1, 1 -三氯乙烷, 1,2- 二氯苯, 有機氮, 懸浮固體物, 日期]\n",
       "Index: []\n",
       "\n",
       "[0 rows x 68 columns]"
      ]
     },
     "execution_count": 12,
     "metadata": {},
     "output_type": "execute_result"
    }
   ],
   "source": [
    "X"
   ]
  },
  {
   "cell_type": "code",
   "execution_count": 13,
   "metadata": {},
   "outputs": [
    {
     "data": {
      "text/plain": [
       "'9060212'"
      ]
     },
     "execution_count": 13,
     "metadata": {},
     "output_type": "execute_result"
    }
   ],
   "source": [
    "siteid"
   ]
  },
  {
   "cell_type": "code",
   "execution_count": 14,
   "metadata": {},
   "outputs": [
    {
     "data": {
      "text/html": [
       "<div>\n",
       "<style scoped>\n",
       "    .dataframe tbody tr th:only-of-type {\n",
       "        vertical-align: middle;\n",
       "    }\n",
       "\n",
       "    .dataframe tbody tr th {\n",
       "        vertical-align: top;\n",
       "    }\n",
       "\n",
       "    .dataframe thead th {\n",
       "        text-align: right;\n",
       "    }\n",
       "</style>\n",
       "<table border=\"1\" class=\"dataframe\">\n",
       "  <thead>\n",
       "    <tr style=\"text-align: right;\">\n",
       "      <th></th>\n",
       "      <th>井名</th>\n",
       "      <th>資料來源</th>\n",
       "      <th>日期時間</th>\n",
       "      <th>井號</th>\n",
       "      <th>緯度</th>\n",
       "      <th>經度</th>\n",
       "      <th>溫度</th>\n",
       "      <th>電導度</th>\n",
       "      <th>氨氮</th>\n",
       "      <th>氫離子濃度指數</th>\n",
       "      <th>...</th>\n",
       "      <th>1, 1 -二氯乙烷</th>\n",
       "      <th>1, 1, 2 -三氯乙烷</th>\n",
       "      <th>二氯甲烷</th>\n",
       "      <th>氯甲烷</th>\n",
       "      <th>甲基第三丁基醚</th>\n",
       "      <th>1, 1, 1 -三氯乙烷</th>\n",
       "      <th>1,2- 二氯苯</th>\n",
       "      <th>有機氮</th>\n",
       "      <th>懸浮固體物</th>\n",
       "      <th>日期</th>\n",
       "    </tr>\n",
       "  </thead>\n",
       "  <tbody>\n",
       "  </tbody>\n",
       "</table>\n",
       "<p>0 rows × 68 columns</p>\n",
       "</div>"
      ],
      "text/plain": [
       "Empty DataFrame\n",
       "Columns: [井名, 資料來源, 日期時間, 井號, 緯度, 經度, 溫度, 電導度, 氨氮, 氫離子濃度指數, 錳, 鐵, 氯鹽, 硫酸鹽, 總有機碳, 鋅, 砷, 銅, 鎘, 鉻, 鈣, 鉛, 鈉, 鎂, 鉀, 總硬度, 總溶解固體物, 亞硝酸鹽氮, 井別, 鹼度, 水面至井口深度, 氧化還原電位, 硝酸鹽氮, 大腸桿菌群, 硫化物, 碳酸氫根, 鎳, 汞, 酚類, 氟鹽, 碳酸根, 溶氧量, 甲苯, 氯仿, 氯苯, 萘, 二甲苯, 對二氯苯, 乙苯, 1, 2 -二氯乙烷 , 四氯化碳, 苯, 反1, 2 -二氯乙烯, 順1, 2 -二氯乙烯, 三氯乙烯, 四氯乙烯, 氯乙烯, 1, 1 -二氯乙烯, 1, 1 -二氯乙烷 , 1, 1, 2 -三氯乙烷, 二氯甲烷, 氯甲烷, 甲基第三丁基醚, 1, 1, 1 -三氯乙烷, 1,2- 二氯苯, 有機氮, 懸浮固體物, 日期]\n",
       "Index: []\n",
       "\n",
       "[0 rows x 68 columns]"
      ]
     },
     "execution_count": 14,
     "metadata": {},
     "output_type": "execute_result"
    }
   ],
   "source": [
    "wa_df[wa_df['井號'] == int(siteid)]"
   ]
  },
  {
   "cell_type": "markdown",
   "metadata": {},
   "source": [
    "Okay, there is really no wate quality data of 9060212. I checked the water quality files before merging, this siteid doesn't have water measurements at all."
   ]
  },
  {
   "cell_type": "markdown",
   "metadata": {},
   "source": [
    "# Another bug"
   ]
  },
  {
   "cell_type": "code",
   "execution_count": 7,
   "metadata": {},
   "outputs": [],
   "source": [
    "import visualization\n",
    "\n",
    "# use the 2021-05-01 to 2021-05-15 as the toy data\n",
    "df = pd.read_csv('data/test.csv')\n",
    "select = visualization.Waterlvl()\n",
    "std_name = '再生水用於工業用途水質基礎建議值一'"
   ]
  },
  {
   "cell_type": "code",
   "execution_count": 8,
   "metadata": {},
   "outputs": [
    {
     "name": "stdout",
     "output_type": "stream",
     "text": [
      "9060212 has no water quality measurement\n",
      "9170231 has no water quality measurement\n"
     ]
    }
   ],
   "source": [
    "check = True\n",
    "check_list=[]\n",
    "out_df = pd.DataFrame()\n",
    "for siteid in df['井號'].astype(str).unique():\n",
    "    # collect the analytes having value in the standard (std_name) and '日期'\n",
    "    cols = np.hstack([std_df.loc[~std_df[std_name].isna(), '項目'], '日期'])\n",
    "    # select the data points of that siteid\n",
    "    X = wa_df[wa_df['井號'] == siteid].reset_index(drop=True)\n",
    "    # There might be site not having measurement at all\n",
    "    if len(X) > 0:\n",
    "        # select the analytes both have values in the water quality dataset\n",
    "        # and in the standard.\n",
    "        X = X.loc[:, X.columns.isin(cols)]\n",
    "        X = X.loc[:, X.any(axis=0)].copy()\n",
    "        # the last one is '日期'\n",
    "        for analyte in X.columns[:-1]:\n",
    "            std_value = std_df.loc[std_df['項目'] == analyte, std_name].values[0]\n",
    "            # there are three different scenarios about the standard value\n",
    "            if analyte == '氫離子濃度指數':\n",
    "                lo_lim, up_lim = [float(_) for _ in std_value.split('-')]\n",
    "                mask = (X[analyte] >= lo_lim) & (X[analyte] <= up_lim)\n",
    "            elif analyte == '溶氧量':\n",
    "                mask = X[analyte] > std_value\n",
    "            else:\n",
    "                mask = X[analyte] < std_value\n",
    "            # if there more than 3 historical measurements not passing std\n",
    "            # in an analyte, this siteid will be marked \"no\"\n",
    "            if ~mask.sum() > 3: \n",
    "                check = False\n",
    "    else:\n",
    "        print('{} has no water quality measurement'.format(siteid))\n",
    "        check = False\n",
    "    check_list.append(check)\n",
    "    out_df = pd.concat([out_df, df[df['井號'] == siteid]], join='outer', axis=0)"
   ]
  },
  {
   "cell_type": "code",
   "execution_count": 10,
   "metadata": {},
   "outputs": [
    {
     "data": {
      "text/plain": [
       "(0, 7)"
      ]
     },
     "execution_count": 10,
     "metadata": {},
     "output_type": "execute_result"
    }
   ],
   "source": [
    "out_df.shape"
   ]
  },
  {
   "cell_type": "code",
   "execution_count": 11,
   "metadata": {},
   "outputs": [
    {
     "data": {
      "text/html": [
       "<div>\n",
       "<style scoped>\n",
       "    .dataframe tbody tr th:only-of-type {\n",
       "        vertical-align: middle;\n",
       "    }\n",
       "\n",
       "    .dataframe tbody tr th {\n",
       "        vertical-align: top;\n",
       "    }\n",
       "\n",
       "    .dataframe thead th {\n",
       "        text-align: right;\n",
       "    }\n",
       "</style>\n",
       "<table border=\"1\" class=\"dataframe\">\n",
       "  <thead>\n",
       "    <tr style=\"text-align: right;\">\n",
       "      <th></th>\n",
       "      <th>井名</th>\n",
       "      <th>日期時間</th>\n",
       "      <th>井號</th>\n",
       "      <th>水面至井口深度</th>\n",
       "      <th>Lon</th>\n",
       "      <th>Lat</th>\n",
       "      <th>月</th>\n",
       "    </tr>\n",
       "  </thead>\n",
       "  <tbody>\n",
       "  </tbody>\n",
       "</table>\n",
       "</div>"
      ],
      "text/plain": [
       "Empty DataFrame\n",
       "Columns: [井名, 日期時間, 井號, 水面至井口深度, Lon, Lat, 月]\n",
       "Index: []"
      ]
     },
     "execution_count": 11,
     "metadata": {},
     "output_type": "execute_result"
    }
   ],
   "source": [
    "df[df['井號'] == siteid]"
   ]
  },
  {
   "cell_type": "code",
   "execution_count": 12,
   "metadata": {},
   "outputs": [
    {
     "data": {
      "text/html": [
       "<div>\n",
       "<style scoped>\n",
       "    .dataframe tbody tr th:only-of-type {\n",
       "        vertical-align: middle;\n",
       "    }\n",
       "\n",
       "    .dataframe tbody tr th {\n",
       "        vertical-align: top;\n",
       "    }\n",
       "\n",
       "    .dataframe thead th {\n",
       "        text-align: right;\n",
       "    }\n",
       "</style>\n",
       "<table border=\"1\" class=\"dataframe\">\n",
       "  <thead>\n",
       "    <tr style=\"text-align: right;\">\n",
       "      <th></th>\n",
       "      <th>井名</th>\n",
       "      <th>日期時間</th>\n",
       "      <th>井號</th>\n",
       "      <th>水面至井口深度</th>\n",
       "      <th>Lon</th>\n",
       "      <th>Lat</th>\n",
       "      <th>月</th>\n",
       "    </tr>\n",
       "  </thead>\n",
       "  <tbody>\n",
       "    <tr>\n",
       "      <th>0</th>\n",
       "      <td>國聖(1)</td>\n",
       "      <td>2021-05-01 00:00:00</td>\n",
       "      <td>7010111</td>\n",
       "      <td>3.933</td>\n",
       "      <td>120.569126</td>\n",
       "      <td>24.092658</td>\n",
       "      <td>5</td>\n",
       "    </tr>\n",
       "    <tr>\n",
       "      <th>1</th>\n",
       "      <td>國聖(1)</td>\n",
       "      <td>2021-05-01 00:10:00</td>\n",
       "      <td>7010111</td>\n",
       "      <td>3.931</td>\n",
       "      <td>120.569126</td>\n",
       "      <td>24.092658</td>\n",
       "      <td>5</td>\n",
       "    </tr>\n",
       "    <tr>\n",
       "      <th>2</th>\n",
       "      <td>國聖(1)</td>\n",
       "      <td>2021-05-01 00:20:00</td>\n",
       "      <td>7010111</td>\n",
       "      <td>3.932</td>\n",
       "      <td>120.569126</td>\n",
       "      <td>24.092658</td>\n",
       "      <td>5</td>\n",
       "    </tr>\n",
       "    <tr>\n",
       "      <th>3</th>\n",
       "      <td>國聖(1)</td>\n",
       "      <td>2021-05-01 00:30:00</td>\n",
       "      <td>7010111</td>\n",
       "      <td>3.933</td>\n",
       "      <td>120.569126</td>\n",
       "      <td>24.092658</td>\n",
       "      <td>5</td>\n",
       "    </tr>\n",
       "    <tr>\n",
       "      <th>4</th>\n",
       "      <td>國聖(1)</td>\n",
       "      <td>2021-05-01 00:40:00</td>\n",
       "      <td>7010111</td>\n",
       "      <td>3.934</td>\n",
       "      <td>120.569126</td>\n",
       "      <td>24.092658</td>\n",
       "      <td>5</td>\n",
       "    </tr>\n",
       "    <tr>\n",
       "      <th>...</th>\n",
       "      <td>...</td>\n",
       "      <td>...</td>\n",
       "      <td>...</td>\n",
       "      <td>...</td>\n",
       "      <td>...</td>\n",
       "      <td>...</td>\n",
       "      <td>...</td>\n",
       "    </tr>\n",
       "    <tr>\n",
       "      <th>263689</th>\n",
       "      <td>東石(4)</td>\n",
       "      <td>2021-05-14 23:10:00</td>\n",
       "      <td>10090141</td>\n",
       "      <td>20.302</td>\n",
       "      <td>120.154469</td>\n",
       "      <td>23.460335</td>\n",
       "      <td>5</td>\n",
       "    </tr>\n",
       "    <tr>\n",
       "      <th>263690</th>\n",
       "      <td>東石(4)</td>\n",
       "      <td>2021-05-14 23:20:00</td>\n",
       "      <td>10090141</td>\n",
       "      <td>20.293</td>\n",
       "      <td>120.154469</td>\n",
       "      <td>23.460335</td>\n",
       "      <td>5</td>\n",
       "    </tr>\n",
       "    <tr>\n",
       "      <th>263691</th>\n",
       "      <td>東石(4)</td>\n",
       "      <td>2021-05-14 23:30:00</td>\n",
       "      <td>10090141</td>\n",
       "      <td>20.283</td>\n",
       "      <td>120.154469</td>\n",
       "      <td>23.460335</td>\n",
       "      <td>5</td>\n",
       "    </tr>\n",
       "    <tr>\n",
       "      <th>263692</th>\n",
       "      <td>東石(4)</td>\n",
       "      <td>2021-05-14 23:40:00</td>\n",
       "      <td>10090141</td>\n",
       "      <td>20.274</td>\n",
       "      <td>120.154469</td>\n",
       "      <td>23.460335</td>\n",
       "      <td>5</td>\n",
       "    </tr>\n",
       "    <tr>\n",
       "      <th>263693</th>\n",
       "      <td>東石(4)</td>\n",
       "      <td>2021-05-14 23:50:00</td>\n",
       "      <td>10090141</td>\n",
       "      <td>20.264</td>\n",
       "      <td>120.154469</td>\n",
       "      <td>23.460335</td>\n",
       "      <td>5</td>\n",
       "    </tr>\n",
       "  </tbody>\n",
       "</table>\n",
       "<p>263694 rows × 7 columns</p>\n",
       "</div>"
      ],
      "text/plain": [
       "           井名                 日期時間        井號  水面至井口深度         Lon        Lat  \\\n",
       "0       國聖(1)  2021-05-01 00:00:00   7010111    3.933  120.569126  24.092658   \n",
       "1       國聖(1)  2021-05-01 00:10:00   7010111    3.931  120.569126  24.092658   \n",
       "2       國聖(1)  2021-05-01 00:20:00   7010111    3.932  120.569126  24.092658   \n",
       "3       國聖(1)  2021-05-01 00:30:00   7010111    3.933  120.569126  24.092658   \n",
       "4       國聖(1)  2021-05-01 00:40:00   7010111    3.934  120.569126  24.092658   \n",
       "...       ...                  ...       ...      ...         ...        ...   \n",
       "263689  東石(4)  2021-05-14 23:10:00  10090141   20.302  120.154469  23.460335   \n",
       "263690  東石(4)  2021-05-14 23:20:00  10090141   20.293  120.154469  23.460335   \n",
       "263691  東石(4)  2021-05-14 23:30:00  10090141   20.283  120.154469  23.460335   \n",
       "263692  東石(4)  2021-05-14 23:40:00  10090141   20.274  120.154469  23.460335   \n",
       "263693  東石(4)  2021-05-14 23:50:00  10090141   20.264  120.154469  23.460335   \n",
       "\n",
       "        月  \n",
       "0       5  \n",
       "1       5  \n",
       "2       5  \n",
       "3       5  \n",
       "4       5  \n",
       "...    ..  \n",
       "263689  5  \n",
       "263690  5  \n",
       "263691  5  \n",
       "263692  5  \n",
       "263693  5  \n",
       "\n",
       "[263694 rows x 7 columns]"
      ]
     },
     "execution_count": 12,
     "metadata": {},
     "output_type": "execute_result"
    }
   ],
   "source": [
    "df"
   ]
  },
  {
   "cell_type": "code",
   "execution_count": 13,
   "metadata": {},
   "outputs": [
    {
     "data": {
      "text/plain": [
       "'10090141'"
      ]
     },
     "execution_count": 13,
     "metadata": {},
     "output_type": "execute_result"
    }
   ],
   "source": [
    "siteid"
   ]
  },
  {
   "cell_type": "code",
   "execution_count": 15,
   "metadata": {},
   "outputs": [
    {
     "data": {
      "text/plain": [
       "dtype('int64')"
      ]
     },
     "execution_count": 15,
     "metadata": {},
     "output_type": "execute_result"
    }
   ],
   "source": [
    "df['井號'].dtype"
   ]
  },
  {
   "cell_type": "markdown",
   "metadata": {},
   "source": [
    "Okay, I need to transform df['井號'] to str in the begining."
   ]
  },
  {
   "cell_type": "markdown",
   "metadata": {},
   "source": [
    "# Demo"
   ]
  },
  {
   "cell_type": "code",
   "execution_count": 1,
   "metadata": {},
   "outputs": [
    {
     "name": "stdout",
     "output_type": "stream",
     "text": [
      "9060212 has no water quality measurement\n",
      "9170231 has no water quality measurement\n"
     ]
    }
   ],
   "source": [
    "import visualization\n",
    "import pandas as pd\n",
    "\n",
    "# use the 2021-05-01 to 2021-05-15 as the toy data\n",
    "df = pd.read_csv('data/test.csv')\n",
    "select = visualization.Waterlvl()\n",
    "df = select.MarkbyEP(df=df)\n",
    "\n",
    "select = visualization.Waterquality()\n",
    "out_df = select.MarkbySTD(df=df, std_name='再生水用於工業用途水質基礎建議值一')"
   ]
  },
  {
   "cell_type": "code",
   "execution_count": 2,
   "metadata": {},
   "outputs": [
    {
     "data": {
      "text/html": [
       "<div>\n",
       "<style scoped>\n",
       "    .dataframe tbody tr th:only-of-type {\n",
       "        vertical-align: middle;\n",
       "    }\n",
       "\n",
       "    .dataframe tbody tr th {\n",
       "        vertical-align: top;\n",
       "    }\n",
       "\n",
       "    .dataframe thead th {\n",
       "        text-align: right;\n",
       "    }\n",
       "</style>\n",
       "<table border=\"1\" class=\"dataframe\">\n",
       "  <thead>\n",
       "    <tr style=\"text-align: right;\">\n",
       "      <th></th>\n",
       "      <th>井名</th>\n",
       "      <th>井號</th>\n",
       "      <th>水面至井口深度</th>\n",
       "      <th>Lon</th>\n",
       "      <th>Lat</th>\n",
       "      <th>月</th>\n",
       "      <th>wl_check</th>\n",
       "      <th>wa_check</th>\n",
       "    </tr>\n",
       "  </thead>\n",
       "  <tbody>\n",
       "    <tr>\n",
       "      <th>2021-05-14 23:50:00</th>\n",
       "      <td>國聖(1)</td>\n",
       "      <td>7010111</td>\n",
       "      <td>3.893</td>\n",
       "      <td>120.569126</td>\n",
       "      <td>24.092658</td>\n",
       "      <td>5</td>\n",
       "      <td>True</td>\n",
       "      <td>True</td>\n",
       "    </tr>\n",
       "    <tr>\n",
       "      <th>2021-05-14 23:50:00</th>\n",
       "      <td>東榮(1)</td>\n",
       "      <td>10050111</td>\n",
       "      <td>39.126</td>\n",
       "      <td>120.435512</td>\n",
       "      <td>23.557506</td>\n",
       "      <td>5</td>\n",
       "      <td>True</td>\n",
       "      <td>True</td>\n",
       "    </tr>\n",
       "    <tr>\n",
       "      <th>2021-05-14 23:50:00</th>\n",
       "      <td>安和(1)</td>\n",
       "      <td>10070111</td>\n",
       "      <td>21.695</td>\n",
       "      <td>120.312655</td>\n",
       "      <td>23.514751</td>\n",
       "      <td>5</td>\n",
       "      <td>True</td>\n",
       "      <td>True</td>\n",
       "    </tr>\n",
       "    <tr>\n",
       "      <th>2021-05-14 23:50:00</th>\n",
       "      <td>和豐(1)</td>\n",
       "      <td>9160212</td>\n",
       "      <td>20.494</td>\n",
       "      <td>120.231564</td>\n",
       "      <td>23.737339</td>\n",
       "      <td>5</td>\n",
       "      <td>True</td>\n",
       "      <td>True</td>\n",
       "    </tr>\n",
       "    <tr>\n",
       "      <th>2021-05-13 08:20:00</th>\n",
       "      <td>芳苑(1)</td>\n",
       "      <td>7230312</td>\n",
       "      <td>14.283</td>\n",
       "      <td>120.327834</td>\n",
       "      <td>23.920473</td>\n",
       "      <td>5</td>\n",
       "      <td>True</td>\n",
       "      <td>True</td>\n",
       "    </tr>\n",
       "    <tr>\n",
       "      <th>...</th>\n",
       "      <td>...</td>\n",
       "      <td>...</td>\n",
       "      <td>...</td>\n",
       "      <td>...</td>\n",
       "      <td>...</td>\n",
       "      <td>...</td>\n",
       "      <td>...</td>\n",
       "      <td>...</td>\n",
       "    </tr>\n",
       "    <tr>\n",
       "      <th>2021-05-14 23:50:00</th>\n",
       "      <td>明德(3)</td>\n",
       "      <td>9180331</td>\n",
       "      <td>24.969</td>\n",
       "      <td>120.199259</td>\n",
       "      <td>23.652903</td>\n",
       "      <td>5</td>\n",
       "      <td>True</td>\n",
       "      <td>False</td>\n",
       "    </tr>\n",
       "    <tr>\n",
       "      <th>2021-05-06 08:30:00</th>\n",
       "      <td>大溝(1)</td>\n",
       "      <td>9200211</td>\n",
       "      <td>38.773</td>\n",
       "      <td>120.210658</td>\n",
       "      <td>23.566151</td>\n",
       "      <td>5</td>\n",
       "      <td>True</td>\n",
       "      <td>False</td>\n",
       "    </tr>\n",
       "    <tr>\n",
       "      <th>2021-05-14 23:50:00</th>\n",
       "      <td>文昌(4)</td>\n",
       "      <td>7060141</td>\n",
       "      <td>14.036</td>\n",
       "      <td>120.419559</td>\n",
       "      <td>24.008117</td>\n",
       "      <td>5</td>\n",
       "      <td>True</td>\n",
       "      <td>False</td>\n",
       "    </tr>\n",
       "    <tr>\n",
       "      <th>2021-05-14 23:50:00</th>\n",
       "      <td>花壇(1)</td>\n",
       "      <td>7080111</td>\n",
       "      <td>2.508</td>\n",
       "      <td>120.543393</td>\n",
       "      <td>24.026659</td>\n",
       "      <td>5</td>\n",
       "      <td>False</td>\n",
       "      <td>False</td>\n",
       "    </tr>\n",
       "    <tr>\n",
       "      <th>2021-05-06 12:40:00</th>\n",
       "      <td>社頭(1)</td>\n",
       "      <td>7170211</td>\n",
       "      <td>7.64</td>\n",
       "      <td>120.593717</td>\n",
       "      <td>23.900657</td>\n",
       "      <td>5</td>\n",
       "      <td>True</td>\n",
       "      <td>False</td>\n",
       "    </tr>\n",
       "  </tbody>\n",
       "</table>\n",
       "<p>148 rows × 8 columns</p>\n",
       "</div>"
      ],
      "text/plain": [
       "                        井名        井號 水面至井口深度         Lon        Lat  月  \\\n",
       "2021-05-14 23:50:00  國聖(1)   7010111   3.893  120.569126  24.092658  5   \n",
       "2021-05-14 23:50:00  東榮(1)  10050111  39.126  120.435512  23.557506  5   \n",
       "2021-05-14 23:50:00  安和(1)  10070111  21.695  120.312655  23.514751  5   \n",
       "2021-05-14 23:50:00  和豐(1)   9160212  20.494  120.231564  23.737339  5   \n",
       "2021-05-13 08:20:00  芳苑(1)   7230312  14.283  120.327834  23.920473  5   \n",
       "...                    ...       ...     ...         ...        ... ..   \n",
       "2021-05-14 23:50:00  明德(3)   9180331  24.969  120.199259  23.652903  5   \n",
       "2021-05-06 08:30:00  大溝(1)   9200211  38.773  120.210658  23.566151  5   \n",
       "2021-05-14 23:50:00  文昌(4)   7060141  14.036  120.419559  24.008117  5   \n",
       "2021-05-14 23:50:00  花壇(1)   7080111   2.508  120.543393  24.026659  5   \n",
       "2021-05-06 12:40:00  社頭(1)   7170211    7.64  120.593717  23.900657  5   \n",
       "\n",
       "                     wl_check  wa_check  \n",
       "2021-05-14 23:50:00      True      True  \n",
       "2021-05-14 23:50:00      True      True  \n",
       "2021-05-14 23:50:00      True      True  \n",
       "2021-05-14 23:50:00      True      True  \n",
       "2021-05-13 08:20:00      True      True  \n",
       "...                       ...       ...  \n",
       "2021-05-14 23:50:00      True     False  \n",
       "2021-05-06 08:30:00      True     False  \n",
       "2021-05-14 23:50:00      True     False  \n",
       "2021-05-14 23:50:00     False     False  \n",
       "2021-05-06 12:40:00      True     False  \n",
       "\n",
       "[148 rows x 8 columns]"
      ]
     },
     "execution_count": 2,
     "metadata": {},
     "output_type": "execute_result"
    }
   ],
   "source": [
    "out_df"
   ]
  },
  {
   "cell_type": "code",
   "execution_count": 3,
   "metadata": {},
   "outputs": [
    {
     "data": {
      "text/plain": [
       "0"
      ]
     },
     "execution_count": 3,
     "metadata": {},
     "output_type": "execute_result"
    }
   ],
   "source": [
    "out_df['井號'].duplicated().sum()"
   ]
  }
 ],
 "metadata": {
  "interpreter": {
   "hash": "354178e733bfa671b06b67ba2704b581a445ec1de5c3d34073639f20ee70bfdb"
  },
  "kernelspec": {
   "display_name": "Python 3.9.7 64-bit ('ncdr': conda)",
   "language": "python",
   "name": "python3"
  },
  "language_info": {
   "codemirror_mode": {
    "name": "ipython",
    "version": 3
   },
   "file_extension": ".py",
   "mimetype": "text/x-python",
   "name": "python",
   "nbconvert_exporter": "python",
   "pygments_lexer": "ipython3",
   "version": "3.9.7"
  },
  "orig_nbformat": 4
 },
 "nbformat": 4,
 "nbformat_minor": 2
}
